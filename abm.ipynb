{
 "cells": [
  {
   "cell_type": "markdown",
   "id": "5286850d",
   "metadata": {},
   "source": [
    "# Understanding Agent-Based Models"
   ]
  },
  {
   "cell_type": "markdown",
   "id": "084ee8fb",
   "metadata": {},
   "source": [
    "*Def:* Agent based models are computational simulation models that involve many discrete agents."
   ]
  },
  {
   "cell_type": "markdown",
   "id": "6ff69c4c",
   "metadata": {},
   "source": [
    "#### Typical properties generally assumed by agents and ABMs  \n",
    "\n",
    "Agents:\n",
    "- are discrete entities,\n",
    "- may have internal states,\n",
    "- may be spacially localized,\n",
    "- may perceive and interact with the environment,\n",
    "- may behave based on pre-defined rules,\n",
    "- may be able to learn and adapt,\n",
    "- may interact with other agents.  \n",
    "\n",
    "ABMs:\n",
    "- often lack central supervisors/controllers,\n",
    "- may produce non-trivial 'collective behaviour' as a whole."
   ]
  },
  {
   "cell_type": "markdown",
   "id": "47b10e29",
   "metadata": {},
   "source": [
    "#### Design tasks to implement an ABM\n",
    "  \n",
    "1. Design the data structure to store the attributes of the agents.\n",
    "2. Design the data structure to store the states of the environment.\n",
    "3. Describe the rules for how the environment behaves on it's own. \n",
    "4. Describe the rules for how agents interact with their environment.\n",
    "5. Describe the rules for how agents behave on their own.\n",
    "6. Describe the rules for how agents interact with eachother."
   ]
  },
  {
   "cell_type": "markdown",
   "id": "74c5c2b9",
   "metadata": {},
   "source": [
    "#### Defining classes\n",
    "\n",
    "- The *class* command defines a new class under which you can define various attributes (variables, properties) and methods (functions, actions). \n",
    "- We use a dummy keyword *pass* which doesn't do anything, but is still needed for syntactic reasons. "
   ]
  },
  {
   "cell_type": "code",
   "execution_count": 2,
   "id": "7e24a74e",
   "metadata": {},
   "outputs": [],
   "source": [
    "# define an empty agent class\n",
    "\n",
    "class agent:\n",
    "    pass\n",
    "\n",
    "# create new empty agent object \n",
    "\n",
    "a = agent()\n",
    "\n",
    "# add various attributes to the new agent\n",
    "\n",
    "a.x = 2\n",
    "a.y = 8\n",
    "a.name = 'Garry'\n",
    "a.age = 24"
   ]
  },
  {
   "cell_type": "code",
   "execution_count": 3,
   "id": "0622416b",
   "metadata": {},
   "outputs": [
    {
     "data": {
      "text/plain": [
       "'Garry'"
      ]
     },
     "execution_count": 3,
     "metadata": {},
     "output_type": "execute_result"
    }
   ],
   "source": [
    "a.name"
   ]
  },
  {
   "cell_type": "code",
   "execution_count": 4,
   "id": "61c8526d",
   "metadata": {},
   "outputs": [
    {
     "data": {
      "text/plain": [
       "['__class__',\n",
       " '__delattr__',\n",
       " '__dict__',\n",
       " '__dir__',\n",
       " '__doc__',\n",
       " '__eq__',\n",
       " '__format__',\n",
       " '__ge__',\n",
       " '__getattribute__',\n",
       " '__gt__',\n",
       " '__hash__',\n",
       " '__init__',\n",
       " '__init_subclass__',\n",
       " '__le__',\n",
       " '__lt__',\n",
       " '__module__',\n",
       " '__ne__',\n",
       " '__new__',\n",
       " '__reduce__',\n",
       " '__reduce_ex__',\n",
       " '__repr__',\n",
       " '__setattr__',\n",
       " '__sizeof__',\n",
       " '__str__',\n",
       " '__subclasshook__',\n",
       " '__weakref__',\n",
       " 'age',\n",
       " 'name',\n",
       " 'x',\n",
       " 'y']"
      ]
     },
     "execution_count": 4,
     "metadata": {},
     "output_type": "execute_result"
    }
   ],
   "source": [
    "# find out what attributes are available under an object\n",
    "\n",
    "dir(a)"
   ]
  },
  {
   "cell_type": "markdown",
   "id": "695d9ae5",
   "metadata": {},
   "source": [
    "#### Components of ABMs\n",
    "\n",
    "Similar to CAs, there are 3 components of ABMs:\n",
    "- initialisation,\n",
    "- visualisation,\n",
    "- updating functions."
   ]
  },
  {
   "cell_type": "markdown",
   "id": "7bf7b27d",
   "metadata": {},
   "source": [
    "## Example: Schelling's Segregation Model\n",
    "\n",
    "Aims to provide an explanation for why people with different ethnic backgrounds tend to segregate geographically.  \n",
    "\n",
    "The model assumptions used were the following:\n",
    "- Two different types of agents are distributed in a 2D space,\n",
    "- In each iteration, a randomly chosen agent looks around it's neighbourhood, and if the fraction of agents of the same type among it's neighbours is below a threshold, it jumps to another location randomly chosen in the space.  \n",
    "\n",
    "Step by step design of the simulation below following the 6 steps mentioned above."
   ]
  },
  {
   "cell_type": "code",
   "execution_count": 16,
   "id": "4234d232",
   "metadata": {},
   "outputs": [],
   "source": [
    "# imports \n",
    "\n",
    "from random import randint\n",
    "from random import random"
   ]
  },
  {
   "cell_type": "markdown",
   "id": "e26ccb9a",
   "metadata": {},
   "source": [
    "- Step 1 - design the data structure to store the attributes of the agents"
   ]
  },
  {
   "cell_type": "code",
   "execution_count": 20,
   "id": "ade91cf3",
   "metadata": {},
   "outputs": [],
   "source": [
    "# In this model, each agent has a type attribute as well as a position in the 2D space. \n",
    "# These two types can be represented by a 0 or 1.\n",
    "# The spatial position can be anywhere in a square unit.\n",
    "\n",
    "# class agent:\n",
    "#     pass\n",
    "\n",
    "# ag=agent()\n",
    "# ag.type=randint(0,1)\n",
    "# ag.x=random()\n",
    "# ag.y=random()"
   ]
  },
  {
   "cell_type": "code",
   "execution_count": 18,
   "id": "58d56da1",
   "metadata": {},
   "outputs": [],
   "source": [
    "# to generate a population of agents\n",
    "\n",
    "n=1000 # number of agents\n",
    "\n",
    "class agent:\n",
    "    pass\n",
    "\n",
    "def Initialise():\n",
    "    global agents # by default, variables within functions are local\n",
    "    agents=[]\n",
    "    for i in range(n):\n",
    "        ag=agent()\n",
    "        ag.type=randint(0,1)\n",
    "        ag.x=random()\n",
    "        ag.y=random()\n",
    "        agents.append(ag)"
   ]
  },
  {
   "cell_type": "markdown",
   "id": "bb7868ea",
   "metadata": {},
   "source": [
    "Schelling's model doesn't have a separate environment that interacts with agents, so we can skip steps 2-4 below:\n",
    "\n",
    "- Step 2 - design the data structure to store the states of the environment\n",
    "- Step 3 - describe the rules for how the environment behaves on its own\n",
    "- Step 4 - describe the rules for how agents interact with their environment\n",
    "\n",
    "It is assumed that agents in this model do not do anything by themselves, and their movement is only triggered by interactions with other agents. We can ignore this step too.\n",
    "\n",
    "- Step 5 - describe the rules for how agents behave on their own\n",
    "\n",
    "Finally, we come to step 6 which gives us something to implement. \n",
    "\n",
    "- Step 6 - describe the rules for how agents interact with eachother\n",
    "\n"
   ]
  },
  {
   "cell_type": "code",
   "execution_count": 19,
   "id": "0f9c2f87",
   "metadata": {},
   "outputs": [],
   "source": [
    "# This model uses the exhaustive search algorithm which is computationally inefficient but is simple and easy to implement\n",
    "\n",
    "# neighbours = [nb for nb in agents if (ag.x-nb.x)**2 + (ag.y-nb.y)**2 < r**2 and nb != ag]\n",
    "\n",
    "# ag is the focal agent whose neighbours are searched for\n",
    "# if part checks to see if distance between ag and nb are less than r squared\n",
    "# r is the neighbourhood radius and must be defined earlier in the code\n",
    "# additional condition nb != ag ensures that so that ag itself isn't mistaken as a neighbour \n",
    "\n",
    "# once we obtain neighbours for ag, we can calculate the fraction of agents whose type is the same as ag's\n",
    "# if this fraction is below a threshold, ag's position is randomly reset\n",
    "\n",
    "# when running the full piece of code, you should set the step size to 50 under the 'Settings' tab"
   ]
  },
  {
   "cell_type": "markdown",
   "id": "05e20672",
   "metadata": {},
   "source": [
    "#### Full code below with comments explaining what is happening at each stage"
   ]
  },
  {
   "cell_type": "code",
   "execution_count": 23,
   "id": "d0a89af4",
   "metadata": {},
   "outputs": [],
   "source": [
    "# imports needed for running the GUI\n",
    "\n",
    "from pylab import *\n",
    "import pycxsimulator\n",
    "\n",
    "# set all the parameters for the model\n",
    "\n",
    "n = 1000 # number of agents\n",
    "r = 0.1 # neighbourhood threshold\n",
    "th = 0.5 # threshold for moving \n",
    "\n",
    "class agent: # define the agent class\n",
    "    pass\n",
    "\n",
    "def Initialise(): \n",
    "    global agents # makes variables globally available (without this, a variable is local to the function)\n",
    "    \n",
    "    # generate a population of agents\n",
    "    \n",
    "    agents=[]\n",
    "    for i in range(n):\n",
    "        ag=agent()\n",
    "        ag.type=randint(0,2)\n",
    "        ag.x=random()\n",
    "        ag.y=random()\n",
    "        agents.append(ag)\n",
    "        \n",
    "def Observe():\n",
    "    global agents \n",
    "    \n",
    "    cla() # used to clear the current axis in matplotlib.pyplot\n",
    "\n",
    "    # plotting the two different types of agents as blue and red \n",
    "    \n",
    "    red = [ag for ag in agents if ag.type==0]\n",
    "    blue = [ag for ag in agents if ag.type==1]\n",
    "    plot([ag.x for ag in red], [ag.y for ag in red], 'ro')\n",
    "    plot([ag.x for ag in blue], [ag.y for ag in blue], 'bo')\n",
    "    \n",
    "    axis('image')\n",
    "    axis([0,1,0,1]) # size of the axis\n",
    "    \n",
    "def Update():\n",
    "    global agents\n",
    "    \n",
    "    ag=choice(agents) # from the random module\n",
    "    \n",
    "    # step 6 - define the rules for how agents interact with eachother\n",
    "    \n",
    "    neighbours = [nb for nb in agents if (ag.x-nb.x)**2 + (ag.y-nb.y)**2 < r**2 and nb != ag] \n",
    "    if len(neighbours) > 0:\n",
    "        q=len([nb for nb in neighbours if nb.type == ag.type]) / float(len(neighbours))\n",
    "        if q < th: # less than threshold\n",
    "            ag.x, ag.y = random(), random() # move the agent\n",
    "            \n",
    "pycxsimulator.GUI().start(func=[Initialise, Observe, Update])"
   ]
  }
 ],
 "metadata": {
  "kernelspec": {
   "display_name": "Python 3",
   "language": "python",
   "name": "python3"
  },
  "language_info": {
   "codemirror_mode": {
    "name": "ipython",
    "version": 3
   },
   "file_extension": ".py",
   "mimetype": "text/x-python",
   "name": "python",
   "nbconvert_exporter": "python",
   "pygments_lexer": "ipython3",
   "version": "3.8.8"
  }
 },
 "nbformat": 4,
 "nbformat_minor": 5
}
